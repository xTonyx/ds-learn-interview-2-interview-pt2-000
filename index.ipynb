{
 "cells": [
  {
   "cell_type": "markdown",
   "metadata": {},
   "source": [
    "# Jupyter notebooks"
   ]
  },
  {
   "cell_type": "markdown",
   "metadata": {},
   "source": [
    "You can type text or code! These blocks execute things."
   ]
  },
  {
   "cell_type": "code",
   "execution_count": 4,
   "metadata": {},
   "outputs": [
    {
     "name": "stdout",
     "output_type": "stream",
     "text": [
      "It Worked!\n"
     ]
    }
   ],
   "source": [
    "# Press SHIFT + ENTER to run this cell!\n",
    "\n",
    "print(\"It Worked!\")"
   ]
  },
  {
   "cell_type": "markdown",
   "metadata": {},
   "source": [
    "## Introduction to data structures"
   ]
  },
  {
   "cell_type": "markdown",
   "metadata": {},
   "source": [
    "We want to figure out where we want to go for dinner tonight. And we are craving hamburgers :)."
   ]
  },
  {
   "cell_type": "markdown",
   "metadata": {},
   "source": [
    "This leads us to a first data structure: a string\n",
    "\n",
    "In the cell below, create and print a string called `\"mcdonalds\"`"
   ]
  },
  {
   "cell_type": "code",
   "execution_count": 5,
   "metadata": {},
   "outputs": [
    {
     "name": "stdout",
     "output_type": "stream",
     "text": [
      "mcdonalds\n"
     ]
    }
   ],
   "source": [
    "restaurant_1 = (\"mcdonalds\")\n",
    "print(restaurant_1)"
   ]
  },
  {
   "cell_type": "markdown",
   "metadata": {},
   "source": [
    "Use the `capitalize()` method to capitalize the contents of our `restaurant` variable.  Print the variable again to see our changes!"
   ]
  },
  {
   "cell_type": "code",
   "execution_count": 6,
   "metadata": {},
   "outputs": [
    {
     "name": "stdout",
     "output_type": "stream",
     "text": [
      "Mcdonalds\n"
     ]
    }
   ],
   "source": [
    "restaurant_1 = (\"mcdonalds\") \n",
    "print(restaurant_1.capitalize())"
   ]
  },
  {
   "cell_type": "markdown",
   "metadata": {},
   "source": [
    "### 1. Lists"
   ]
  },
  {
   "cell_type": "markdown",
   "metadata": {},
   "source": [
    "We want to collect our data. A list is an ordered collection. You can use square brackets to create a list. You can use\n",
    "- the original strings\n",
    "- the stored variables"
   ]
  },
  {
   "cell_type": "code",
   "execution_count": 7,
   "metadata": {},
   "outputs": [],
   "source": [
    "restaurant_2 = ['wendys']\n",
    "restaurants =  ['panera']\n",
    "same_restaurants = ['panera']"
   ]
  },
  {
   "cell_type": "markdown",
   "metadata": {},
   "source": [
    "Note that these two are exactly the same! You can test for this:"
   ]
  },
  {
   "cell_type": "code",
   "execution_count": 8,
   "metadata": {},
   "outputs": [
    {
     "data": {
      "text/plain": [
       "True"
      ]
     },
     "execution_count": 8,
     "metadata": {},
     "output_type": "execute_result"
    }
   ],
   "source": [
    "restaurants == same_restaurants"
   ]
  },
  {
   "cell_type": "markdown",
   "metadata": {},
   "source": [
    "What if we want to access information inside `restaurants` or `same_restaurants`?"
   ]
  },
  {
   "cell_type": "markdown",
   "metadata": {},
   "source": [
    "What if you want to add a burger restaurant to your list? Append `'Shake Shack'` to `restaurants`"
   ]
  },
  {
   "cell_type": "code",
   "execution_count": 9,
   "metadata": {},
   "outputs": [
    {
     "name": "stdout",
     "output_type": "stream",
     "text": [
      "['panera', 'Shake Shack']\n"
     ]
    }
   ],
   "source": [
    "restaurants.append('Shake Shack')# Append \"Shake Shack\" to restaurants!\n",
    "\n",
    "print(restaurants)"
   ]
  },
  {
   "cell_type": "markdown",
   "metadata": {},
   "source": [
    "### 2. Dictionaries"
   ]
  },
  {
   "cell_type": "markdown",
   "metadata": {},
   "source": [
    "Maybe we want to save attributes for our restaurants? Lists are not very useful here."
   ]
  },
  {
   "cell_type": "code",
   "execution_count": 10,
   "metadata": {},
   "outputs": [],
   "source": [
    "mcdonalds = {'name':'mcdonalds', 'address': \"85 broad street\"}"
   ]
  },
  {
   "cell_type": "markdown",
   "metadata": {},
   "source": [
    "Why not a list? Dictionaries have `keys` and `values`. "
   ]
  },
  {
   "cell_type": "code",
   "execution_count": 11,
   "metadata": {},
   "outputs": [
    {
     "data": {
      "text/plain": [
       "dict_keys(['name', 'address'])"
      ]
     },
     "execution_count": 11,
     "metadata": {},
     "output_type": "execute_result"
    }
   ],
   "source": [
    "mcdonalds.keys()"
   ]
  },
  {
   "cell_type": "code",
   "execution_count": 12,
   "metadata": {},
   "outputs": [
    {
     "data": {
      "text/plain": [
       "dict_values(['mcdonalds', '85 broad street'])"
      ]
     },
     "execution_count": 12,
     "metadata": {},
     "output_type": "execute_result"
    }
   ],
   "source": [
    "mcdonalds.values()"
   ]
  },
  {
   "cell_type": "markdown",
   "metadata": {},
   "source": [
    "You can wrap this into a list"
   ]
  },
  {
   "cell_type": "code",
   "execution_count": 36,
   "metadata": {},
   "outputs": [
    {
     "data": {
      "text/plain": [
       "['mcdonalds', '85 broad street']"
      ]
     },
     "execution_count": 36,
     "metadata": {},
     "output_type": "execute_result"
    }
   ],
   "source": [
    "list(mcdonalds.values())"
   ]
  },
  {
   "cell_type": "markdown",
   "metadata": {},
   "source": [
    "Create two more restaurant dictionaries for the following restaurants:\n",
    "\n",
    "|  Restaurant |    Address    |\n",
    "|:-----------:|:-------------:|\n",
    "| Burger King | 1313 Broadway |\n",
    "| Shake Shack |   691 8th Ave |"
   ]
  },
  {
   "cell_type": "code",
   "execution_count": 37,
   "metadata": {},
   "outputs": [],
   "source": [
    "Burger_King ={'name':'Burger King', 'address':'1313 Broadway'}\n",
    "Shake_Shack ={'name': 'Shake Shack', 'address': '691 9th Ave'}"
   ]
  },
  {
   "cell_type": "markdown",
   "metadata": {},
   "source": [
    "Now use the correct key to access the address for Shake Shack:"
   ]
  },
  {
   "cell_type": "code",
   "execution_count": 38,
   "metadata": {},
   "outputs": [
    {
     "data": {
      "text/plain": [
       "['Shake Shack', '691 9th Ave']"
      ]
     },
     "execution_count": 38,
     "metadata": {},
     "output_type": "execute_result"
    }
   ],
   "source": [
    "list(Shake_Shack.values())"
   ]
  },
  {
   "cell_type": "markdown",
   "metadata": {},
   "source": [
    "Now, we'll set up for the final programming challenge of this lesson.  \n",
    "\n",
    "First, create a list containing the restaurant dictionaries we made above."
   ]
  },
  {
   "cell_type": "code",
   "execution_count": 39,
   "metadata": {},
   "outputs": [],
   "source": [
    "list_of_dictionaries = [{'mcdonalds'},{'Burger_King'},{'Shake_Shack'}]"
   ]
  },
  {
   "cell_type": "markdown",
   "metadata": {},
   "source": [
    "### Challenge\n",
    "\n",
    "In the cell below, iterate through our list of dictionaries, and print out \"{Restaurant Name} is located at {Restaurant Address}!\" for each restaurant. \n",
    "\n",
    "Your output should be:\n",
    "\n",
    "`\"mcdonalds is located at 85 broad street!\"`   \n",
    "`\"Burger King is located at 1313 broadway!\"`   \n",
    "`\"Shake Shack is located at 691 8th Ave!\"`   "
   ]
  },
  {
   "cell_type": "code",
   "execution_count": 40,
   "metadata": {},
   "outputs": [
    {
     "ename": "SyntaxError",
     "evalue": "invalid syntax (<ipython-input-40-a79dd6a83884>, line 4)",
     "output_type": "error",
     "traceback": [
      "\u001b[0;36m  File \u001b[0;32m\"<ipython-input-40-a79dd6a83884>\"\u001b[0;36m, line \u001b[0;32m4\u001b[0m\n\u001b[0;31m    print output.append(name.key + 'is located at')\u001b[0m\n\u001b[0m               ^\u001b[0m\n\u001b[0;31mSyntaxError\u001b[0m\u001b[0;31m:\u001b[0m invalid syntax\n"
     ]
    }
   ],
   "source": [
    "def nameaddress(listOf_dictionaries):\n",
    "    output=[]\n",
    "    for name in list_of_dictionaries:\n",
    "        print output.append(listname.key + 'is located at')\n",
    " \n",
    "\n",
    "                         \n",
    "    \n"
   ]
  },
  {
   "cell_type": "code",
   "execution_count": null,
   "metadata": {},
   "outputs": [],
   "source": []
  }
 ],
 "metadata": {
  "kernelspec": {
   "display_name": "Python 3",
   "language": "python",
   "name": "python3"
  },
  "language_info": {
   "codemirror_mode": {
    "name": "ipython",
    "version": 3
   },
   "file_extension": ".py",
   "mimetype": "text/x-python",
   "name": "python",
   "nbconvert_exporter": "python",
   "pygments_lexer": "ipython3",
   "version": "3.6.4"
  }
 },
 "nbformat": 4,
 "nbformat_minor": 2
}
